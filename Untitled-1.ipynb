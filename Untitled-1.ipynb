{
 "cells": [
  {
   "cell_type": "code",
   "execution_count": null,
   "id": "15adace9",
   "metadata": {},
   "outputs": [],
   "source": [
    "import pandas as pd"
   ]
  },
  {
   "cell_type": "code",
   "execution_count": 2,
   "id": "ad97df4f",
   "metadata": {},
   "outputs": [],
   "source": [
    "\n",
    "# Load the data\n",
    "df = pd.read_csv('Data.csv')\n",
    "\n",
    "# Define your features and label\n",
    "features = ['TransactionType', 'PaymentMethod', 'CustomerVerified', 'WeekendTransaction',]\n",
    "label = 'TransactionIsPending'\n",
    "\n"
   ]
  },
  {
   "cell_type": "code",
   "execution_count": null,
   "id": "539d50bd",
   "metadata": {},
   "outputs": [
    {
     "name": "stdout",
     "output_type": "stream",
     "text": [
      "isPending TransactionType PaymentMethod CustomerVerified WeekendTransaction  \\\n",
      "0                 InStore  BankTransfer               No                 No   \n",
      "1                 InStore  BankTransfer               No                Yes   \n",
      "2                 InStore  BankTransfer              Yes                 No   \n",
      "3                 InStore  BankTransfer              Yes                Yes   \n",
      "4                 InStore          Card               No                 No   \n",
      "5                 InStore          Card               No                Yes   \n",
      "6                 InStore          Card              Yes                 No   \n",
      "7                 InStore          Card              Yes                Yes   \n",
      "8                  Online  BankTransfer               No                 No   \n",
      "9                  Online  BankTransfer               No                Yes   \n",
      "10                 Online  BankTransfer              Yes                 No   \n",
      "11                 Online  BankTransfer              Yes                Yes   \n",
      "12                 Online          Card               No                 No   \n",
      "13                 Online          Card               No                Yes   \n",
      "14                 Online          Card              Yes                 No   \n",
      "15                 Online          Card              Yes                Yes   \n",
      "\n",
      "isPending  No  Yes  \n",
      "0           2   11  \n",
      "1           1   12  \n",
      "2           6    6  \n",
      "3           4    9  \n",
      "4          12    1  \n",
      "5          11    2  \n",
      "6          12    1  \n",
      "7          12    1  \n",
      "8           1   11  \n",
      "9           1   11  \n",
      "10          1   11  \n",
      "11          1   11  \n",
      "12          4    8  \n",
      "13          1   11  \n",
      "14         11    1  \n",
      "15          6    6  \n"
     ]
    }
   ],
   "source": [
    "# create each instane of features (permutation) with the values of the label column \n",
    "result = pd.crosstab(\n",
    "    index=[df[col] for col in features],\n",
    "    columns=df[label],\n",
    ").reset_index() # so it does not look weird, reset to dataframe\n",
    "\n",
    "result.columns.name = None\n",
    "print(result)\n"
   ]
  }
 ],
 "metadata": {
  "kernelspec": {
   "display_name": "base",
   "language": "python",
   "name": "python3"
  },
  "language_info": {
   "codemirror_mode": {
    "name": "ipython",
    "version": 3
   },
   "file_extension": ".py",
   "mimetype": "text/x-python",
   "name": "python",
   "nbconvert_exporter": "python",
   "pygments_lexer": "ipython3",
   "version": "3.12.7"
  }
 },
 "nbformat": 4,
 "nbformat_minor": 5
}
